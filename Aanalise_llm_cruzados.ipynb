{
  "nbformat": 4,
  "nbformat_minor": 0,
  "metadata": {
    "colab": {
      "provenance": [],
      "authorship_tag": "ABX9TyN8OOadIxP2cI1DtzWmXOSX",
      "include_colab_link": true
    },
    "kernelspec": {
      "name": "python3",
      "display_name": "Python 3"
    },
    "language_info": {
      "name": "python"
    }
  },
  "cells": [
    {
      "cell_type": "markdown",
      "metadata": {
        "id": "view-in-github",
        "colab_type": "text"
      },
      "source": [
        "<a href=\"https://colab.research.google.com/github/wendycataldo/Analise_de_dados_com_Python/blob/main/Aanalise_llm_cruzados.ipynb\" target=\"_parent\"><img src=\"https://colab.research.google.com/assets/colab-badge.svg\" alt=\"Open In Colab\"/></a>"
      ]
    },
    {
      "cell_type": "code",
      "execution_count": 32,
      "metadata": {
        "id": "f_Ms4BRy_6ji"
      },
      "outputs": [],
      "source": [
        "import pandas as pd\n",
        "import matplotlib.pyplot as plt\n",
        "import seaborn as sns\n",
        "import statsmodels.api as sm\n",
        "import pandas as pd\n",
        "\n",
        "from google.colab import drive\n",
        "from statsmodels.formula.api import ols\n",
        "from statsmodels.stats.multicomp import pairwise_tukeyhsd\n",
        "from scipy import stats\n",
        "from scipy.stats import chi2_contingency"
      ]
    },
    {
      "cell_type": "code",
      "source": [
        "# Montar o Google Drive\n",
        "drive.mount('/content/drive')"
      ],
      "metadata": {
        "colab": {
          "base_uri": "https://localhost:8080/"
        },
        "id": "MUpkBlXl_-Hb",
        "outputId": "d91472a7-ec0b-478e-dcfb-5079f7ffc537"
      },
      "execution_count": 33,
      "outputs": [
        {
          "output_type": "stream",
          "name": "stdout",
          "text": [
            "Drive already mounted at /content/drive; to attempt to forcibly remount, call drive.mount(\"/content/drive\", force_remount=True).\n"
          ]
        }
      ]
    },
    {
      "cell_type": "code",
      "source": [
        "# Caminho do arquivo no Google Drive\n",
        "caminho_avaliacoes = '/content/drive/MyDrive/Analises dados dis/Analise-llms.xlsx'\n",
        "caminho_questoes = '/content/drive/MyDrive/Analises dados dis/Experimento-questoes.xlsx'\n",
        "#caminho_avaliacoes_auto = '/content/drive/MyDrive/Analises dados dis/arquivo_avaliacoes_auto.xlsx'\n",
        "\n",
        "#df_avaliacoes_auto = pd.read_excel(caminho_avaliacoes_auto, sheet_name='Avaliações Automáticas')\n",
        "df_avaliacoes = pd.read_excel(caminho_avaliacoes, sheet_name='Avaliações Automáticas')\n",
        "df_questoes = pd.read_excel(caminho_questoes, sheet_name='Questões Geradas')"
      ],
      "metadata": {
        "id": "jK8kujUl__Uh"
      },
      "execution_count": 34,
      "outputs": []
    },
    {
      "cell_type": "markdown",
      "source": [
        "#1. Qual LLM gera as questões com maior pontuação média em Gramaticalidade?"
      ],
      "metadata": {
        "id": "MzQCI5JxFN7-"
      }
    },
    {
      "cell_type": "code",
      "source": [
        "# Filtrar os dados para incluir apenas as avaliações de Gramaticalidade\n",
        "df_gramaticalidade = df_avaliacoes[df_avaliacoes['Critério'] == 'Gramaticalidade']"
      ],
      "metadata": {
        "id": "HF_uyu87AxuM"
      },
      "execution_count": 35,
      "outputs": []
    },
    {
      "cell_type": "code",
      "source": [
        "# Imprimir os nomes das colunas para depuração\n",
        "print(df_gramaticalidade.columns)"
      ],
      "metadata": {
        "id": "j_1y737VC4Ln",
        "colab": {
          "base_uri": "https://localhost:8080/"
        },
        "outputId": "f66c1fa0-2cae-4cf8-9347-c86ebbffaab6"
      },
      "execution_count": 36,
      "outputs": [
        {
          "output_type": "stream",
          "name": "stdout",
          "text": [
            "Index(['ID_Avaliação', 'ID_Questão', 'LLM_Avaliador', 'Critério', 'Pontuação',\n",
            "       'Analise llms'],\n",
            "      dtype='object')\n"
          ]
        }
      ]
    },
    {
      "cell_type": "code",
      "source": [
        "# Calcular a média da pontuação de Gramaticalidade para cada LLM\n",
        "media_gramaticalidade = df_gramaticalidade.groupby('LLM_Avaliador')['Pontuação'].mean()"
      ],
      "metadata": {
        "id": "m3iHyOCfA0Su"
      },
      "execution_count": 37,
      "outputs": []
    },
    {
      "cell_type": "code",
      "source": [
        "# Criar o gráfico de barras\n",
        "plt.figure(figsize=(8, 6))\n",
        "sns.barplot(x=media_gramaticalidade.index, y=media_gramaticalidade.values)\n",
        "plt.title('Média da Pontuação de Gramaticalidade por LLM')\n",
        "plt.xlabel('LLM Avaliador')\n",
        "plt.ylabel('Média da Pontuação')\n",
        "plt.ylim(0, 5)\n",
        "plt.show()"
      ],
      "metadata": {
        "id": "KRzerv9IC7sw",
        "colab": {
          "base_uri": "https://localhost:8080/",
          "height": 565
        },
        "outputId": "caa4a210-eff4-4f1b-8219-aed179f677a1"
      },
      "execution_count": 38,
      "outputs": [
        {
          "output_type": "display_data",
          "data": {
            "text/plain": [
              "<Figure size 800x600 with 1 Axes>"
            ],
            "image/png": "[encoded data removed]"
          },
          "metadata": {}
        }
      ]
    },
    {
      "cell_type": "code",
      "source": [
        "# Teste ANOVA (opcional)\n",
        "import statsmodels.api as sm\n",
        "from statsmodels.formula.api import ols\n",
        "\n",
        "df_gramaticalidade['LLM_Avaliador'] = df_gramaticalidade['LLM_Avaliador'].astype('category')\n",
        "model = ols('Pontuação ~ C(LLM_Avaliador)', data=df_gramaticalidade).fit()\n",
        "anova_table = sm.stats.anova_lm(model, typ=2)\n",
        "print(anova_table)"
      ],
      "metadata": {
        "id": "UC9kVeW5C9WG",
        "colab": {
          "base_uri": "https://localhost:8080/"
        },
        "outputId": "f0fadf35-df05-4e2b-baa4-b465c54ed635"
      },
      "execution_count": 39,
      "outputs": [
        {
          "output_type": "stream",
          "name": "stdout",
          "text": [
            "                    sum_sq    df     F    PR(>F)\n",
            "C(LLM_Avaliador)  4.433333   2.0  13.3  0.000018\n",
            "Residual          9.500000  57.0   NaN       NaN\n"
          ]
        },
        {
          "output_type": "stream",
          "name": "stderr",
          "text": [
            "/tmp/ipython-input-39-3105386126.py:5: SettingWithCopyWarning: \n",
            "A value is trying to be set on a copy of a slice from a DataFrame.\n",
            "Try using .loc[row_indexer,col_indexer] = value instead\n",
            "\n",
            "See the caveats in the documentation: https://pandas.pydata.org/pandas-docs/stable/user_guide/indexing.html#returning-a-view-versus-a-copy\n",
            "  df_gramaticalidade['LLM_Avaliador'] = df_gramaticalidade['LLM_Avaliador'].astype('category')\n"
          ]
        }
      ]
    },
    {
      "cell_type": "code",
      "source": [
        "# Teste post-hoc (se ANOVA for significativo)\n",
        "from statsmodels.stats.multicomp import pairwise_tukeyhsd\n",
        "\n",
        "m_comp = pairwise_tukeyhsd(endog=df_gramaticalidade['Pontuação'], groups=df_gramaticalidade['LLM_Avaliador'], alpha=0.05)\n",
        "print(m_comp)"
      ],
      "metadata": {
        "id": "CMw6iJWlC_Cr",
        "colab": {
          "base_uri": "https://localhost:8080/"
        },
        "outputId": "e1e91d99-ab6f-4538-a1fe-6f301c580643"
      },
      "execution_count": 40,
      "outputs": [
        {
          "output_type": "stream",
          "name": "stdout",
          "text": [
            "  Multiple Comparison of Means - Tukey HSD, FWER=0.05  \n",
            "=======================================================\n",
            " group1   group2 meandiff p-adj   lower   upper  reject\n",
            "-------------------------------------------------------\n",
            "Deepseek Mistral     0.05 0.9208 -0.2607  0.3607  False\n",
            "Deepseek chatGPT    -0.55 0.0002 -0.8607 -0.2393   True\n",
            " Mistral chatGPT     -0.6 0.0001 -0.9107 -0.2893   True\n",
            "-------------------------------------------------------\n"
          ]
        }
      ]
    },
    {
      "cell_type": "markdown",
      "source": [
        "#2. O Meta-Prompting melhora a Relevância das questões geradas em todos os LLMs?"
      ],
      "metadata": {
        "id": "KR9FW-oaFUbl"
      }
    },
    {
      "cell_type": "code",
      "source": [
        "df_avaliacoes = pd.read_excel(caminho_avaliacoes, sheet_name='Avaliações Automáticas')\n",
        "df_questoes = pd.read_excel(caminho_questoes, sheet_name='Questões Geradas')"
      ],
      "metadata": {
        "id": "z6s8v9jcQgrY"
      },
      "execution_count": 41,
      "outputs": []
    },
    {
      "cell_type": "code",
      "source": [
        "# Imprimir os nomes das colunas do DataFrame df_questoes\n",
        "print(df_questoes.columns)"
      ],
      "metadata": {
        "id": "4hCHUNOWQi12",
        "colab": {
          "base_uri": "https://localhost:8080/"
        },
        "outputId": "9a8f9b86-b61a-42fd-faa5-03cdfa230705"
      },
      "execution_count": 42,
      "outputs": [
        {
          "output_type": "stream",
          "name": "stdout",
          "text": [
            "Index(['ID_Questão', 'LLM', 'Tipo de Prompt', 'Texto da Questão',\n",
            "       'Opnição professor'],\n",
            "      dtype='object')\n"
          ]
        }
      ]
    },
    {
      "cell_type": "code",
      "source": [
        "# Renomear colunas para consistência\n",
        "df_avaliacoes = df_avaliacoes.rename(columns={'LLM Avaliador': 'LLM'})"
      ],
      "metadata": {
        "id": "gXdJvD2jQkY-"
      },
      "execution_count": 43,
      "outputs": []
    },
    {
      "cell_type": "code",
      "source": [
        "# Extrair o tipo de prompt da coluna \"Tipo de Prompt\" na aba \"Questoes geradas\"\n",
        "df_questoes['Tipo de Prompt'] = df_questoes['Tipo de Prompt'].replace({'Meta': 'Meta-Prompting', 'Simples': 'Simples'})"
      ],
      "metadata": {
        "id": "3ZVR49JxQldy"
      },
      "execution_count": 44,
      "outputs": []
    },
    {
      "cell_type": "code",
      "source": [
        "# Renomear coluna em df_questoes para consistência antes de combinar\n",
        "df_questoes = df_questoes.rename(columns={'ID da Questão': 'ID_Questão'})\n",
        "\n",
        "# Combinar os DataFrames usando a coluna \"ID_Questão\"\n",
        "df_combinado = pd.merge(df_avaliacoes[df_avaliacoes['Critério'] == 'Relevância'],\n",
        "                        df_questoes[['ID_Questão', 'Tipo de Prompt', 'LLM']],\n",
        "                        on='ID_Questão',\n",
        "                        suffixes=('_avaliacao', '_questao'))"
      ],
      "metadata": {
        "id": "iYEKkxi5Qr4o"
      },
      "execution_count": 45,
      "outputs": []
    },
    {
      "cell_type": "code",
      "source": [
        "# Calcular a média de Relevância para cada LLM e tipo de prompt\n",
        "media_relevancia = df_combinado.groupby(['LLM', 'Tipo de Prompt'])['Pontuação'].mean().unstack()"
      ],
      "metadata": {
        "id": "9r8GcxhjRRY3"
      },
      "execution_count": 46,
      "outputs": []
    },
    {
      "cell_type": "code",
      "source": [
        "# Criar o gráfico de barras agrupadas\n",
        "media_relevancia.plot(kind='bar', figsize=(10, 6))\n",
        "plt.title('Média da Pontuação de Relevância por LLM e Tipo de Prompt')\n",
        "plt.xlabel('LLM')\n",
        "plt.ylabel('Média da Pontuação de Relevância')\n",
        "plt.xticks(rotation=0)\n",
        "plt.legend(title='Tipo de Prompt')\n",
        "plt.tight_layout()\n",
        "plt.show()"
      ],
      "metadata": {
        "id": "AfbOMaf2RUzQ",
        "colab": {
          "base_uri": "https://localhost:8080/",
          "height": 607
        },
        "outputId": "884a9651-08ea-4095-b6f1-025bef2cf715"
      },
      "execution_count": 47,
      "outputs": [
        {
          "output_type": "display_data",
          "data": {
            "text/plain": [
              "<Figure size 1000x600 with 1 Axes>"
            ],
            "image/png": "[encoded data removed]"
          },
          "metadata": {}
        }
      ]
    },
    {
      "cell_type": "code",
      "source": [
        "# Teste t pareado para cada LLM\n",
        "for llm in df_combinado['LLM'].unique():\n",
        "    # Filtrar por LLM\n",
        "    df_llm = df_combinado[df_combinado['LLM'] == llm]\n",
        "\n",
        "    # Verificar se há dados suficientes para o teste t\n",
        "    if len(df_llm['Tipo de Prompt'].unique()) < 2:\n",
        "        print(f\"Não há dados suficientes para o teste t para o LLM {llm}\")\n",
        "        continue\n",
        "\n",
        "    # Separar as pontuações por tipo de prompt\n",
        "    relevancia_simples = df_llm[df_llm['Tipo de Prompt'] == 'Simples']['Pontuação']\n",
        "    relevancia_meta = df_llm[df_llm['Tipo de Prompt'] == 'Meta-Prompting']['Pontuação']\n",
        "\n",
        "    # Verificar se há dados suficientes para o teste t\n",
        "    if len(relevancia_simples) < 2 or len(relevancia_meta) < 2:\n",
        "        print(f\"Não há dados suficientes para o teste t para o LLM {llm}\")\n",
        "        continue\n",
        "\n",
        "    # Realizar o teste t pareado\n",
        "    teste_t = stats.ttest_rel(relevancia_meta, relevancia_simples)\n",
        "\n",
        "    # Imprimir os resultados\n",
        "    print(f\"Teste t pareado para {llm}:\")\n",
        "    print(f\"  Estatística t: {teste_t.statistic:.3f}\")\n",
        "    print(f\"  Valor p: {teste_t.pvalue:.3f}\")\n",
        "\n",
        "    # Interpretar o resultado\n",
        "    alpha = 0.05\n",
        "    if teste_t.pvalue < alpha:\n",
        "        print(f\"  Conclusão: O Meta-Prompting melhora significativamente a Relevância para {llm}\\n\")\n",
        "    else:\n",
        "        print(f\"  Conclusão: Não há evidência significativa de que o Meta-Prompting melhora a Relevância para {llm}\\n\")"
      ],
      "metadata": {
        "id": "HlD84I8TRWl1",
        "colab": {
          "base_uri": "https://localhost:8080/"
        },
        "outputId": "2221d6c6-9d1f-4cbb-ae43-6fde47a13fa4"
      },
      "execution_count": 48,
      "outputs": [
        {
          "output_type": "stream",
          "name": "stdout",
          "text": [
            "Não há dados suficientes para o teste t para o LLM Professor\n",
            "Não há dados suficientes para o teste t para o LLM DeepSeek \n",
            "Não há dados suficientes para o teste t para o LLM Mistal\n",
            "Não há dados suficientes para o teste t para o LLM ChatGPT\n"
          ]
        }
      ]
    },
    {
      "cell_type": "markdown",
      "source": [
        "# 3. Existem diferenças significativas na Cobertura das questões geradas por ChatGPT e Claude?"
      ],
      "metadata": {
        "id": "OZCXkz5MFX7k"
      }
    },
    {
      "cell_type": "code",
      "source": [
        "# Filtrar os dados para incluir apenas as avaliações de Cobertura e os LLMs ChatGPT e Claude\n",
        "df_cobertura = df_avaliacoes[(df_avaliacoes['Critério'] == 'Cobertura') & (df_avaliacoes['LLM_Avaliador'].isin(['ChatGPT', 'Claude']))]"
      ],
      "metadata": {
        "id": "CtAhDfMWSwCc"
      },
      "execution_count": 49,
      "outputs": []
    },
    {
      "cell_type": "code",
      "source": [
        "# Calcular a média da pontuação de Cobertura para cada LLM\n",
        "media_cobertura = df_cobertura.groupby('LLM_Avaliador')['Pontuação'].mean()"
      ],
      "metadata": {
        "id": "0VF0VlCGS6z6"
      },
      "execution_count": 50,
      "outputs": []
    },
    {
      "cell_type": "code",
      "source": [
        "# Criar o gráfico de barras\n",
        "plt.figure(figsize=(8, 6))\n",
        "sns.barplot(x=media_cobertura.index, y=media_cobertura.values)\n",
        "plt.title('Média da Pontuação de Cobertura por LLM')\n",
        "plt.xlabel('LLM_Avaliador')\n",
        "plt.ylabel('Média da Pontuação')\n",
        "plt.ylim(0, 5)\n",
        "plt.show()"
      ],
      "metadata": {
        "id": "U8XKylArS8__",
        "colab": {
          "base_uri": "https://localhost:8080/",
          "height": 565
        },
        "outputId": "cbb3ba32-08f6-4a9d-9243-3156244de483"
      },
      "execution_count": 51,
      "outputs": [
        {
          "output_type": "display_data",
          "data": {
            "text/plain": [
              "<Figure size 800x600 with 1 Axes>"
            ],
            "image/png": "[encoded data removed]"
          },
          "metadata": {}
        }
      ]
    },
    {
      "cell_type": "code",
      "source": [
        "# Realizar o teste t de Student\n",
        "chatgpt_cobertura = df_cobertura[df_cobertura['LLM_Avaliador'] == 'ChatGPT']['Pontuação']\n",
        "claude_cobertura = df_cobertura[df_cobertura['LLM_Avaliador'] == 'Claude']['Pontuação']\n",
        "\n",
        "teste_t = stats.ttest_ind(chatgpt_cobertura, claude_cobertura)"
      ],
      "metadata": {
        "id": "B96ovS9HTGMc",
        "colab": {
          "base_uri": "https://localhost:8080/"
        },
        "outputId": "ba14f836-e0ef-476c-8832-847256967138"
      },
      "execution_count": 52,
      "outputs": [
        {
          "output_type": "stream",
          "name": "stderr",
          "text": [
            "/usr/local/lib/python3.11/dist-packages/scipy/_lib/deprecation.py:234: SmallSampleWarning: One or more sample arguments is too small; all returned values will be NaN. See documentation for sample size requirements.\n",
            "  return f(*args, **kwargs)\n"
          ]
        }
      ]
    },
    {
      "cell_type": "code",
      "source": [
        "# Interpretar o resultado\n",
        "alpha = 0.05\n",
        "if teste_t.pvalue < alpha:\n",
        "    print(\"  Conclusão: Há uma diferença significativa na Cobertura entre ChatGPT e Claude.\")\n",
        "else:\n",
        "    print(\"  Conclusão: Não há evidência significativa de uma diferença na Cobertura entre ChatGPT e Claude.\")"
      ],
      "metadata": {
        "id": "iVWT-qvxTSnW",
        "colab": {
          "base_uri": "https://localhost:8080/"
        },
        "outputId": "19bfb281-782c-4483-c64a-42f96912649c"
      },
      "execution_count": 53,
      "outputs": [
        {
          "output_type": "stream",
          "name": "stdout",
          "text": [
            "  Conclusão: Não há evidência significativa de uma diferença na Cobertura entre ChatGPT e Claude.\n"
          ]
        }
      ]
    },
    {
      "cell_type": "markdown",
      "source": [
        "#5. As justificativas dos LLMs para as pontuações estão alinhadas com as avaliações humanas?"
      ],
      "metadata": {
        "id": "4WN_BBOTFdVJ"
      }
    },
    {
      "cell_type": "markdown",
      "source": [
        "#6. O Meta-Prompting melhora significativamente a qualidade geral das questões geradas pelos LLMs, em comparação com o prompt simples?"
      ],
      "metadata": {
        "id": "RKzcD3TXFdY7"
      }
    },
    {
      "cell_type": "code",
      "source": [
        "# Renomear colunas para consistência\n",
        "df_avaliacoes = df_avaliacoes.rename(columns={'ID_Questão': 'ID'})\n",
        "df_questoes = df_questoes.rename(columns={'ID_Questão': 'ID'})"
      ],
      "metadata": {
        "id": "5dY94I4wtYsA"
      },
      "execution_count": 54,
      "outputs": []
    },
    {
      "cell_type": "code",
      "source": [
        "# Extrair o tipo de prompt da coluna \"Tipo de Prompt\" na aba \"Questoes geradas\"\n",
        "df_questoes['Tipo de Prompt'] = df_questoes['Tipo de Prompt'].replace({'Meta': 'Meta-Prompting', 'Simples': 'Simples'})"
      ],
      "metadata": {
        "id": "F8_t7VnAtnCk"
      },
      "execution_count": 55,
      "outputs": []
    },
    {
      "cell_type": "code",
      "source": [
        "# Agrupar as avaliações por ID da questão para somar as pontuações\n",
        "df_avaliacoes_agrupadas = df_avaliacoes.groupby('ID')['Pontuação'].sum().reset_index()"
      ],
      "metadata": {
        "id": "C4tEwUeBtolm"
      },
      "execution_count": 56,
      "outputs": []
    },
    {
      "cell_type": "code",
      "source": [
        "# Combinar os DataFrames usando a coluna \"ID\"\n",
        "df_combinado = pd.merge(df_avaliacoes_agrupadas,\n",
        "                        df_questoes[['ID', 'Tipo de Prompt']],\n",
        "                        on='ID',\n",
        "                        suffixes=('_avaliacao', '_questao'))"
      ],
      "metadata": {
        "id": "NM9meTkZtqIu"
      },
      "execution_count": 57,
      "outputs": []
    },
    {
      "cell_type": "code",
      "source": [
        "# Calcular a média das pontuações totais para cada tipo de prompt\n",
        "media_pontuacao_total = df_combinado.groupby('Tipo de Prompt')['Pontuação'].mean()"
      ],
      "metadata": {
        "id": "WMxaFNzdtrzX"
      },
      "execution_count": 58,
      "outputs": []
    },
    {
      "cell_type": "code",
      "source": [
        "# Criar o gráfico de barras\n",
        "plt.figure(figsize=(8, 6))\n",
        "sns.barplot(x=media_pontuacao_total.index, y=media_pontuacao_total.values)\n",
        "plt.title('Média da Pontuação Total por Tipo de Prompt')\n",
        "plt.xlabel('Tipo de Prompt')\n",
        "plt.ylabel('Média da Pontuação Total')\n",
        "plt.show()"
      ],
      "metadata": {
        "id": "YRHEba_zttLK",
        "colab": {
          "base_uri": "https://localhost:8080/",
          "height": 565
        },
        "outputId": "5a55f312-8625-4915-a3f6-63a5e5ca81ee"
      },
      "execution_count": 59,
      "outputs": [
        {
          "output_type": "display_data",
          "data": {
            "text/plain": [
              "<Figure size 800x600 with 1 Axes>"
            ],
            "image/png": "[encoded data removed]"
          },
          "metadata": {}
        }
      ]
    },
    {
      "cell_type": "code",
      "source": [
        "# Realizar o teste t de Student\n",
        "pontuacao_simples = df_combinado[df_combinado['Tipo de Prompt'] == 'Simples']['Pontuação']\n",
        "pontuacao_meta = df_combinado[df_combinado['Tipo de Prompt'] == 'Meta-Prompting']['Pontuação']\n",
        "\n",
        "teste_t = stats.ttest_ind(pontuacao_meta, pontuacao_simples)"
      ],
      "metadata": {
        "id": "JUZ5UEKQtutD",
        "colab": {
          "base_uri": "https://localhost:8080/"
        },
        "outputId": "a9afe5ca-8193-4848-e7df-af9ce6cef3a5"
      },
      "execution_count": 60,
      "outputs": [
        {
          "output_type": "stream",
          "name": "stderr",
          "text": [
            "/usr/local/lib/python3.11/dist-packages/scipy/_lib/deprecation.py:234: SmallSampleWarning: One or more sample arguments is too small; all returned values will be NaN. See documentation for sample size requirements.\n",
            "  return f(*args, **kwargs)\n"
          ]
        }
      ]
    },
    {
      "cell_type": "code",
      "source": [
        "# Imprimir os resultados\n",
        "print(f\"Teste t de Student:\")\n",
        "print(f\"  Estatística t: {teste_t.statistic:.3f}\")\n",
        "print(f\"  Valor p: {teste_t.pvalue:.3f}\")"
      ],
      "metadata": {
        "id": "PmV7NCAwtwCD",
        "colab": {
          "base_uri": "https://localhost:8080/"
        },
        "outputId": "48d27dd2-3c90-4791-ed2c-0fb2591971f1"
      },
      "execution_count": 61,
      "outputs": [
        {
          "output_type": "stream",
          "name": "stdout",
          "text": [
            "Teste t de Student:\n",
            "  Estatística t: nan\n",
            "  Valor p: nan\n"
          ]
        }
      ]
    },
    {
      "cell_type": "code",
      "source": [
        "# Interpretar o resultado\n",
        "alpha = 0.05\n",
        "if teste_t.pvalue < alpha:\n",
        "    print(\"  Conclusão: O Meta-Prompting melhora significativamente a qualidade geral das questões.\")\n",
        "else:\n",
        "    print(\"  Conclusão: Não há evidência significativa de que o Meta-Prompting melhora a qualidade geral das questões.\")"
      ],
      "metadata": {
        "id": "7SoSkVdktzUr",
        "colab": {
          "base_uri": "https://localhost:8080/"
        },
        "outputId": "12cacd88-7967-4f04-b02f-0c9afc88d79e"
      },
      "execution_count": 62,
      "outputs": [
        {
          "output_type": "stream",
          "name": "stdout",
          "text": [
            "  Conclusão: Não há evidência significativa de que o Meta-Prompting melhora a qualidade geral das questões.\n"
          ]
        }
      ]
    },
    {
      "cell_type": "markdown",
      "source": [
        "#7. As questões geradas com Meta-Prompting são avaliadas como mais relevantes e adequadas ao conteúdo programático em comparação com as questões geradas com prompt simples e com as questões elaboradas pelo professor?"
      ],
      "metadata": {
        "id": "D2euSaqkFdbA"
      }
    },
    {
      "cell_type": "code",
      "source": [
        "# Renomear colunas para consistência\n",
        "df_avaliacoes_auto = df_avaliacoes_auto.rename(columns={'LLM Avaliador': 'LLM', 'ID da Questão': 'ID'})\n",
        "df_avaliacoes_humanas = df_avaliacoes_humanas.rename(columns={'ID da Questão': 'ID'})\n",
        "df_questoes = df_questoes.rename(columns={'ID da Questão': 'ID'})"
      ],
      "metadata": {
        "id": "j5f1779Hs05m",
        "colab": {
          "base_uri": "https://localhost:8080/",
          "height": 193
        },
        "outputId": "dd995fe4-1e14-4005-8743-7ab5410a1ef6"
      },
      "execution_count": 63,
      "outputs": [
        {
          "output_type": "error",
          "ename": "NameError",
          "evalue": "name 'df_avaliacoes_auto' is not defined",
          "traceback": [
            "\u001b[0;31m---------------------------------------------------------------------------\u001b[0m",
            "\u001b[0;31mNameError\u001b[0m                                 Traceback (most recent call last)",
            "\u001b[0;32m/tmp/ipython-input-63-4135349504.py\u001b[0m in \u001b[0;36m<cell line: 0>\u001b[0;34m()\u001b[0m\n\u001b[1;32m      1\u001b[0m \u001b[0;31m# Renomear colunas para consistência\u001b[0m\u001b[0;34m\u001b[0m\u001b[0;34m\u001b[0m\u001b[0m\n\u001b[0;32m----> 2\u001b[0;31m \u001b[0mdf_avaliacoes_auto\u001b[0m \u001b[0;34m=\u001b[0m \u001b[0mdf_avaliacoes_auto\u001b[0m\u001b[0;34m.\u001b[0m\u001b[0mrename\u001b[0m\u001b[0;34m(\u001b[0m\u001b[0mcolumns\u001b[0m\u001b[0;34m=\u001b[0m\u001b[0;34m{\u001b[0m\u001b[0;34m'LLM Avaliador'\u001b[0m\u001b[0;34m:\u001b[0m \u001b[0;34m'LLM'\u001b[0m\u001b[0;34m,\u001b[0m \u001b[0;34m'ID da Questão'\u001b[0m\u001b[0;34m:\u001b[0m \u001b[0;34m'ID'\u001b[0m\u001b[0;34m}\u001b[0m\u001b[0;34m)\u001b[0m\u001b[0;34m\u001b[0m\u001b[0;34m\u001b[0m\u001b[0m\n\u001b[0m\u001b[1;32m      3\u001b[0m \u001b[0mdf_avaliacoes_humanas\u001b[0m \u001b[0;34m=\u001b[0m \u001b[0mdf_avaliacoes_humanas\u001b[0m\u001b[0;34m.\u001b[0m\u001b[0mrename\u001b[0m\u001b[0;34m(\u001b[0m\u001b[0mcolumns\u001b[0m\u001b[0;34m=\u001b[0m\u001b[0;34m{\u001b[0m\u001b[0;34m'ID da Questão'\u001b[0m\u001b[0;34m:\u001b[0m \u001b[0;34m'ID'\u001b[0m\u001b[0;34m}\u001b[0m\u001b[0;34m)\u001b[0m\u001b[0;34m\u001b[0m\u001b[0;34m\u001b[0m\u001b[0m\n\u001b[1;32m      4\u001b[0m \u001b[0mdf_questoes\u001b[0m \u001b[0;34m=\u001b[0m \u001b[0mdf_questoes\u001b[0m\u001b[0;34m.\u001b[0m\u001b[0mrename\u001b[0m\u001b[0;34m(\u001b[0m\u001b[0mcolumns\u001b[0m\u001b[0;34m=\u001b[0m\u001b[0;34m{\u001b[0m\u001b[0;34m'ID da Questão'\u001b[0m\u001b[0;34m:\u001b[0m \u001b[0;34m'ID'\u001b[0m\u001b[0;34m}\u001b[0m\u001b[0;34m)\u001b[0m\u001b[0;34m\u001b[0m\u001b[0;34m\u001b[0m\u001b[0m\n",
            "\u001b[0;31mNameError\u001b[0m: name 'df_avaliacoes_auto' is not defined"
          ]
        }
      ]
    },
    {
      "cell_type": "code",
      "source": [
        "# Filtrar as avaliações automáticas para incluir apenas a relevância\n",
        "df_relevancia_auto = df_avaliacoes_auto[df_avaliacoes_auto['Critério'] == 'Relevância']"
      ],
      "metadata": {
        "id": "JbD_20jzxx85"
      },
      "execution_count": null,
      "outputs": []
    },
    {
      "cell_type": "code",
      "source": [
        "# Extrair o tipo de prompt da coluna \"Tipo de Prompt\" na aba \"Questões Geradas\"\n",
        "df_questoes['Tipo de Prompt'] = df_questoes['Tipo de Prompt'].replace({'Meta': 'Meta-Prompting', 'Simples': 'Simples'})"
      ],
      "metadata": {
        "id": "VOegNLqixzG6"
      },
      "execution_count": null,
      "outputs": []
    },
    {
      "cell_type": "code",
      "source": [
        "# Criar uma coluna \"Fonte\" para identificar a fonte da questão (LLM Simples, LLM Meta-Prompting, Professor)\n",
        "df_relevancia_auto = pd.merge(df_relevancia_auto, df_questoes[['ID', 'Tipo de Prompt']], on='ID', how='left')\n",
        "df_relevancia_auto['Fonte'] = df_relevancia_auto['Tipo de Prompt'].apply(lambda x: f'LLM {x}' if pd.notnull(x) else None)"
      ],
      "metadata": {
        "id": "oJ7W_d5Gx0rB"
      },
      "execution_count": null,
      "outputs": []
    },
    {
      "cell_type": "code",
      "source": [
        "# Adicionar as avaliações humanas\n",
        "df_avaliacoes_humanas['Fonte'] = 'Professor'\n",
        "df_relevancia_humana = df_avaliacoes_humanas[['ID', 'LLM', 'Tipo de Prompt', 'Fonte', 'Pontuação']]"
      ],
      "metadata": {
        "id": "zXMTJJKPx2ib"
      },
      "execution_count": null,
      "outputs": []
    },
    {
      "cell_type": "code",
      "source": [
        "# Concatenar os DataFrames\n",
        "df_combinado = pd.concat([df_relevancia_auto[['ID', 'LLM', 'Tipo de Prompt', 'Fonte', 'Pontuação']], df_relevancia_humana], ignore_index=True)"
      ],
      "metadata": {
        "id": "KWA5PtM4x38l"
      },
      "execution_count": null,
      "outputs": []
    },
    {
      "cell_type": "code",
      "source": [
        "# Calcular a média da pontuação de Relevância para cada fonte da questão\n",
        "media_relevancia = df_combinado.groupby('Fonte')['Pontuação'].mean()"
      ],
      "metadata": {
        "id": "Dr_Ed3efx5pt"
      },
      "execution_count": null,
      "outputs": []
    },
    {
      "cell_type": "code",
      "source": [
        "# Criar o gráfico de barras\n",
        "plt.figure(figsize=(8, 6))\n",
        "sns.barplot(x=media_relevancia.index, y=media_relevancia.values)\n",
        "plt.title('Média da Pontuação de Relevância por Fonte da Questão')\n",
        "plt.xlabel('Fonte da Questão')\n",
        "plt.ylabel('Média da Pontuação de Relevância')\n",
        "plt.xticks(rotation=45)\n",
        "plt.tight_layout()\n",
        "plt.show()"
      ],
      "metadata": {
        "id": "ShoXlLCvx7IG"
      },
      "execution_count": null,
      "outputs": []
    },
    {
      "cell_type": "code",
      "source": [
        "# Remover linhas com valores nulos na coluna 'Fonte'\n",
        "df_combinado = df_combinado.dropna(subset=['Fonte'])"
      ],
      "metadata": {
        "id": "VetM0MzSx9cL"
      },
      "execution_count": null,
      "outputs": []
    },
    {
      "cell_type": "code",
      "source": [
        "# Teste ANOVA\n",
        "model = ols('Pontuação ~ C(Fonte)', data=df_combinado).fit()\n",
        "anova_table = sm.stats.anova_lm(model, typ=2)\n",
        "print(anova_table)"
      ],
      "metadata": {
        "id": "w5YB0pa8x9zf"
      },
      "execution_count": null,
      "outputs": []
    },
    {
      "cell_type": "code",
      "source": [
        "# Teste post-hoc de Tukey (se ANOVA for significativo)\n",
        "m_comp = pairwise_tukeyhsd(endog=df_combinado['Pontuação'], groups=df_combinado['Fonte'], alpha=0.05)\n",
        "print(m_comp)"
      ],
      "metadata": {
        "id": "huHSzw21x-8s"
      },
      "execution_count": null,
      "outputs": []
    },
    {
      "cell_type": "markdown",
      "source": [
        "#8. O Meta-Prompting resulta em questões mais personalizadas e contextualizadas em comparação com o prompt simples?"
      ],
      "metadata": {
        "id": "Hq-ClNwRFdcW"
      }
    },
    {
      "cell_type": "code",
      "source": [
        "# Carregar os dados (substitua pelos caminhos corretos)\n",
        "from google.colab import drive\n",
        "drive.mount('/content/drive')\n",
        "caminho_avaliacoes = '/content/drive/My Drive/Colab Notebooks/Data/seu_arquivo_avaliacoes.xlsx'\n",
        "caminho_questoes = '/content/drive/My Drive/Colab Notebooks/Data/seu_arquivo_questoes.xlsx'\n",
        "\n",
        "df_avaliacoes = pd.read_excel(caminho_avaliacoes, sheet_name='Avaliações Automáticas')\n",
        "df_questoes = pd.read_excel(caminho_questoes, sheet_name='Questões Geradas')"
      ],
      "metadata": {
        "id": "GZBX9Dz8y96H"
      },
      "execution_count": null,
      "outputs": []
    },
    {
      "cell_type": "code",
      "source": [
        "# Renomear colunas para consistência\n",
        "df_avaliacoes = df_avaliacoes.rename(columns={'LLM Avaliador': 'LLM', 'ID da Questão': 'ID'})\n",
        "df_questoes = df_questoes.rename(columns={'ID da Questão': 'ID'})"
      ],
      "metadata": {
        "id": "Gp32wxlczSEE"
      },
      "execution_count": null,
      "outputs": []
    },
    {
      "cell_type": "code",
      "source": [
        "# Extrair o tipo de prompt da coluna \"Tipo de Prompt\" na aba \"Questoes geradas\"\n",
        "df_questoes['Tipo de Prompt'] = df_questoes['Tipo de Prompt'].replace({'Meta': 'Meta-Prompting', 'Simples': 'Simples'})"
      ],
      "metadata": {
        "id": "u7oE8baEzTIL"
      },
      "execution_count": null,
      "outputs": []
    },
    {
      "cell_type": "code",
      "source": [
        "# Filtrar as avaliações para incluir apenas a utilidade e relevância\n",
        "df_utilidade = df_avaliacoes[df_avaliacoes['Critério'] == 'Utilidade']\n",
        "df_relevancia = df_avaliacoes[df_avaliacoes['Critério'] == 'Relevância']"
      ],
      "metadata": {
        "id": "d__CfDCwzU-A"
      },
      "execution_count": null,
      "outputs": []
    },
    {
      "cell_type": "code",
      "source": [
        "# Combinar os DataFrames usando a coluna \"ID\"\n",
        "df_combinado_utilidade = pd.merge(df_utilidade,\n",
        "                        df_questoes[['ID', 'Tipo de Prompt']],\n",
        "                        on='ID',\n",
        "                        suffixes=('_avaliacao', '_questao'))\n",
        "\n",
        "df_combinado_relevancia = pd.merge(df_relevancia,\n",
        "                        df_questoes[['ID', 'Tipo de Prompt']],\n",
        "                        on='ID',\n",
        "                        suffixes=('_avaliacao', '_questao'))"
      ],
      "metadata": {
        "id": "PjcRcahHzWBF"
      },
      "execution_count": null,
      "outputs": []
    },
    {
      "cell_type": "code",
      "source": [
        "# Calcular a média de Utilidade e Relevância para cada tipo de prompt\n",
        "media_utilidade = df_combinado_utilidade.groupby('Tipo de Prompt')['Pontuação'].mean()\n",
        "media_relevancia = df_combinado_relevancia.groupby('Tipo de Prompt')['Pontuação'].mean()"
      ],
      "metadata": {
        "id": "QCY2NHCVzYFU"
      },
      "execution_count": null,
      "outputs": []
    },
    {
      "cell_type": "code",
      "source": [
        "# Criar os gráficos de barras\n",
        "fig, axes = plt.subplots(1, 2, figsize=(12, 6))\n",
        "\n",
        "sns.barplot(x=media_utilidade.index, y=media_utilidade.values, ax=axes[0])\n",
        "axes[0].set_title('Média da Pontuação de Utilidade por Tipo de Prompt')\n",
        "axes[0].set_xlabel('Tipo de Prompt')\n",
        "axes[0].set_ylabel('Média da Pontuação de Utilidade')\n",
        "\n",
        "sns.barplot(x=media_relevancia.index, y=media_relevancia.values, ax=axes[1])\n",
        "axes[1].set_title('Média da Pontuação de Relevância por Tipo de Prompt')\n",
        "axes[1].set_xlabel('Tipo de Prompt')\n",
        "axes[1].set_ylabel('Média da Pontuação de Relevância')\n",
        "\n",
        "plt.tight_layout()\n",
        "plt.show()"
      ],
      "metadata": {
        "id": "5X9W93azzZUp"
      },
      "execution_count": null,
      "outputs": []
    },
    {
      "cell_type": "markdown",
      "source": [
        "#9. Quais são as vantagens específicas do Meta-Prompting na criação de exercícios, identificadas tanto pelas avaliações automáticas dos LLMs quanto pelas avaliações humanas dos professores?"
      ],
      "metadata": {
        "id": "QdqlGLuPFdgW"
      }
    },
    {
      "cell_type": "code",
      "source": [
        "import pandas as pd"
      ],
      "metadata": {
        "id": "aLhAJOhRzbOQ"
      },
      "execution_count": null,
      "outputs": []
    },
    {
      "cell_type": "code",
      "source": [
        "# Carregar os dados (substitua pelos caminhos corretos)\n",
        "from google.colab import drive\n",
        "drive.mount('/content/drive')\n",
        "caminho_avaliacoes_auto = '/content/drive/My Drive/Colab Notebooks/Data/seu_arquivo_avaliacoes_auto.xlsx'\n",
        "caminho_avaliacoes_humanas = '/content/drive/My Drive/Colab Notebooks/Data/seu_arquivo_avaliacoes_humanas.xlsx'\n",
        "caminho_questoes = '/content/drive/My Drive/Colab Notebooks/Data/seu_arquivo_questoes.xlsx'\n",
        "\n",
        "df_avaliacoes_auto = pd.read_excel(caminho_avaliacoes_auto, sheet_name='Avaliações Automáticas')\n",
        "df_avaliacoes_humanas = pd.read_excel(caminho_avaliacoes_humanas, sheet_name='Avaliações Humanas')\n",
        "df_questoes = pd.read_excel(caminho_questoes, sheet_name='Questões Geradas')"
      ],
      "metadata": {
        "id": "ekdudw0vzlWV"
      },
      "execution_count": null,
      "outputs": []
    },
    {
      "cell_type": "code",
      "source": [
        "# Renomear colunas para consistência\n",
        "df_avaliacoes_auto = df_avaliacoes_auto.rename(columns={'LLM Avaliador': 'LLM', 'ID da Questão': 'ID'})\n",
        "df_avaliacoes_humanas = df_avaliacoes_humanas.rename(columns={'ID da Questão': 'ID'})\n",
        "df_questoes = df_questoes.rename(columns={'ID da Questão': 'ID'})"
      ],
      "metadata": {
        "id": "8qT3g1Vdzmbj"
      },
      "execution_count": null,
      "outputs": []
    },
    {
      "cell_type": "code",
      "source": [
        "# Extrair o tipo de prompt da coluna \"Tipo de Prompt\" na aba \"Questoes geradas\"\n",
        "df_questoes['Tipo de Prompt'] = df_questoes['Tipo de Prompt'].replace({'Meta': 'Meta-Prompting', 'Simples': 'Simples'})"
      ],
      "metadata": {
        "id": "FmEhi6xtzncx"
      },
      "execution_count": null,
      "outputs": []
    },
    {
      "cell_type": "code",
      "source": [
        "# Filtrar as questões geradas com Meta-Prompting\n",
        "df_questoes_meta = df_questoes[df_questoes['Tipo de Prompt'] == 'Meta-Prompting']"
      ],
      "metadata": {
        "id": "bhBzC57tzoj1"
      },
      "execution_count": null,
      "outputs": []
    },
    {
      "cell_type": "code",
      "source": [
        "# Combinar as avaliações automáticas com as questões Meta-Prompting\n",
        "df_avaliacoes_meta = pd.merge(df_avaliacoes_auto, df_questoes_meta[['ID']], on='ID', how='inner')"
      ],
      "metadata": {
        "id": "dqGnxvklzpmu"
      },
      "execution_count": null,
      "outputs": []
    },
    {
      "cell_type": "code",
      "source": [
        "# Extrair as justificativas dos LLMs para as questões Meta-Prompting\n",
        "justificativas_llms = df_avaliacoes_meta['Justificativa'].tolist()"
      ],
      "metadata": {
        "id": "J5bkLLHAzqp7"
      },
      "execution_count": null,
      "outputs": []
    },
    {
      "cell_type": "code",
      "source": [
        "# Extrair os comentários dos professores para as questões Meta-Prompting\n",
        "comentarios_professores = []\n",
        "for index, row in df_avaliacoes_humanas.iterrows():\n",
        "  if row['ID'] in df_questoes_meta['ID'].values:\n",
        "      comentarios_professores.append(row['Comentários'])"
      ],
      "metadata": {
        "id": "ysXNC4k7zr6U"
      },
      "execution_count": null,
      "outputs": []
    },
    {
      "cell_type": "code",
      "source": [
        "# Extrair os comentários dos professores para as questões Meta-Prompting\n",
        "comentarios_professores = []\n",
        "for index, row in df_avaliacoes_humanas.iterrows():\n",
        "  if row['ID'] in df_questoes_meta['ID'].values:\n",
        "      comentarios_professores.append(row['Comentários'])"
      ],
      "metadata": {
        "id": "cOpJuAjlztUr"
      },
      "execution_count": null,
      "outputs": []
    },
    {
      "cell_type": "markdown",
      "source": [
        "#10. As questões geradas com Meta-Prompting são consideradas de qualidade e relevância suficientes para serem utilizadas por professores de Língua Portuguesa em suas aulas?"
      ],
      "metadata": {
        "id": "Vx5ZPHMpFuDk"
      }
    },
    {
      "cell_type": "code",
      "source": [
        "import pandas as pd\n",
        "import matplotlib.pyplot as plt\n",
        "import seaborn as sns"
      ],
      "metadata": {
        "id": "Zv8orBDYzv8S"
      },
      "execution_count": null,
      "outputs": []
    },
    {
      "cell_type": "code",
      "source": [
        "# Carregar os dados (substitua pelos caminhos corretos)\n",
        "from google.colab import drive\n",
        "drive.mount('/content/drive')\n",
        "caminho_avaliacoes_humanas = '/content/drive/My Drive/Colab Notebooks/Data/seu_arquivo_avaliacoes_humanas.xlsx'\n",
        "caminho_questoes = '/content/drive/My Drive/Colab Notebooks/Data/seu_arquivo_questoes.xlsx'\n",
        "\n",
        "df_avaliacoes_humanas = pd.read_excel(caminho_avaliacoes_humanas, sheet_name='Avaliações Humanas')\n",
        "df_questoes = pd.read_excel(caminho_questoes, sheet_name='Questões Geradas')"
      ],
      "metadata": {
        "id": "kxPAP30Vz-Sc"
      },
      "execution_count": null,
      "outputs": []
    },
    {
      "cell_type": "code",
      "source": [
        "# Renomear colunas para consistência\n",
        "df_avaliacoes_humanas = df_avaliacoes_humanas.rename(columns={'ID da Questão': 'ID'})\n",
        "df_questoes = df_questoes.rename(columns={'ID da Questão': 'ID'})"
      ],
      "metadata": {
        "id": "SdidomqX0AGG"
      },
      "execution_count": null,
      "outputs": []
    },
    {
      "cell_type": "code",
      "source": [
        "# Extrair o tipo de prompt da coluna \"Tipo de Prompt\" na aba \"Questoes geradas\"\n",
        "df_questoes['Tipo de Prompt'] = df_questoes['Tipo de Prompt'].replace({'Meta': 'Meta-Prompting', 'Simples': 'Simples'})"
      ],
      "metadata": {
        "id": "nuMYSbXA0BbA"
      },
      "execution_count": null,
      "outputs": []
    },
    {
      "cell_type": "code",
      "source": [
        "# Filtrar as questões geradas com Meta-Prompting\n",
        "df_questoes_meta = df_questoes[df_questoes['Tipo de Prompt'] == 'Meta-Prompting']"
      ],
      "metadata": {
        "id": "l2K3Gf370Cwa"
      },
      "execution_count": null,
      "outputs": []
    },
    {
      "cell_type": "code",
      "source": [
        "# Combinar as avaliações humanas com as questões Meta-Prompting\n",
        "df_avaliacoes_meta = pd.merge(df_avaliacoes_humanas, df_questoes_meta[['ID']], on='ID', how='inner')"
      ],
      "metadata": {
        "id": "F0LZhfxt0EXH"
      },
      "execution_count": null,
      "outputs": []
    },
    {
      "cell_type": "code",
      "source": [
        "# Calcular a porcentagem de questões com Meta-Prompting que recebem pontuações altas (4 ou 5) em Utilidade e Relevância\n",
        "pontuacao_minima = 4\n",
        "total_questoes_meta = len(df_avaliacoes_meta)\n",
        "\n",
        "utilidade_alta = df_avaliacoes_meta[df_avaliacoes_meta['Utilidade'] >= pontuacao_minima]\n",
        "relevancia_alta = df_avaliacoes_meta[df_avaliacoes_meta['Relevância'] >= pontuacao_minima]\n",
        "\n",
        "porcentagem_utilidade_alta = (len(utilidade_alta) / total_questoes_meta) * 100\n",
        "porcentagem_relevancia_alta = (len(relevancia_alta) / total_questoes_meta) * 100"
      ],
      "metadata": {
        "id": "DZfqiprb0FVk"
      },
      "execution_count": null,
      "outputs": []
    },
    {
      "cell_type": "code",
      "source": [
        "# Imprimir as porcentagens\n",
        "print(f\"Porcentagem de questões Meta-Prompting com pontuação de Utilidade >= {pontuacao_minima}: {porcentagem_utilidade_alta:.2f}%\")\n",
        "print(f\"Porcentagem de questões Meta-Prompting com pontuação de Relevância >= {pontuacao_minima}: {porcentagem_relevancia_alta:.2f}%\")"
      ],
      "metadata": {
        "id": "fqLyMTJJ0GyQ"
      },
      "execution_count": null,
      "outputs": []
    }
  ]
}